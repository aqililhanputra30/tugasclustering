{
  "nbformat": 4,
  "nbformat_minor": 0,
  "metadata": {
    "colab": {
      "provenance": [],
      "collapsed_sections": [],
      "authorship_tag": "ABX9TyOL+dGgWvlehgCBd797pzZw",
      "include_colab_link": true
    },
    "kernelspec": {
      "name": "python3",
      "display_name": "Python 3"
    },
    "language_info": {
      "name": "python"
    }
  },
  "cells": [
    {
      "cell_type": "markdown",
      "metadata": {
        "id": "view-in-github",
        "colab_type": "text"
      },
      "source": [
        "<a href=\"https://colab.research.google.com/github/aqililhanputra30/tugasclustering/blob/main/tugasclustering.ipynb\" target=\"_parent\"><img src=\"https://colab.research.google.com/assets/colab-badge.svg\" alt=\"Open In Colab\"/></a>"
      ]
    },
    {
      "cell_type": "code",
      "execution_count": 56,
      "metadata": {
        "colab": {
          "base_uri": "https://localhost:8080/"
        },
        "id": "Vft_jYOEEJSo",
        "outputId": "d47d9827-ca53-46f7-9df8-2ef2642d5e62"
      },
      "outputs": [
        {
          "output_type": "stream",
          "name": "stdout",
          "text": [
            "Looking in indexes: https://pypi.org/simple, https://us-python.pkg.dev/colab-wheels/public/simple/\n",
            "Requirement already satisfied: snscrape in /usr/local/lib/python3.7/dist-packages (0.3.4)\n",
            "Requirement already satisfied: beautifulsoup4 in /usr/local/lib/python3.7/dist-packages (from snscrape) (4.6.3)\n",
            "Requirement already satisfied: requests[socks] in /usr/local/lib/python3.7/dist-packages (from snscrape) (2.23.0)\n",
            "Requirement already satisfied: lxml in /usr/local/lib/python3.7/dist-packages (from snscrape) (4.9.1)\n",
            "Requirement already satisfied: certifi>=2017.4.17 in /usr/local/lib/python3.7/dist-packages (from requests[socks]->snscrape) (2022.9.24)\n",
            "Requirement already satisfied: urllib3!=1.25.0,!=1.25.1,<1.26,>=1.21.1 in /usr/local/lib/python3.7/dist-packages (from requests[socks]->snscrape) (1.24.3)\n",
            "Requirement already satisfied: chardet<4,>=3.0.2 in /usr/local/lib/python3.7/dist-packages (from requests[socks]->snscrape) (3.0.4)\n",
            "Requirement already satisfied: idna<3,>=2.5 in /usr/local/lib/python3.7/dist-packages (from requests[socks]->snscrape) (2.10)\n",
            "Requirement already satisfied: PySocks!=1.5.7,>=1.5.6 in /usr/local/lib/python3.7/dist-packages (from requests[socks]->snscrape) (1.7.1)\n"
          ]
        }
      ],
      "source": [
        "!pip3 install snscrape"
      ]
    },
    {
      "cell_type": "code",
      "source": [
        "pip install langdetect"
      ],
      "metadata": {
        "colab": {
          "base_uri": "https://localhost:8080/"
        },
        "id": "1un0QAyrElPa",
        "outputId": "09d232c4-ef75-46c1-9938-2c48d7bebb20"
      },
      "execution_count": 57,
      "outputs": [
        {
          "output_type": "stream",
          "name": "stdout",
          "text": [
            "Looking in indexes: https://pypi.org/simple, https://us-python.pkg.dev/colab-wheels/public/simple/\n",
            "Requirement already satisfied: langdetect in /usr/local/lib/python3.7/dist-packages (1.0.9)\n",
            "Requirement already satisfied: six in /usr/local/lib/python3.7/dist-packages (from langdetect) (1.15.0)\n"
          ]
        }
      ]
    },
    {
      "cell_type": "code",
      "source": [
        "import snscrape.modules.twitter as sntwitter\n",
        "import json\n",
        "from langdetect import detect"
      ],
      "metadata": {
        "id": "qX-qgekgEmVg"
      },
      "execution_count": 58,
      "outputs": []
    },
    {
      "cell_type": "code",
      "source": [
        "keywords=['BTR JUARA DUNIA PMCO']\n",
        "start=\"2022–09–01\"\n",
        "end =\"2022–10–14\"\n",
        "max_num=10\n",
        "fname='tweet.json' \n",
        "languages=['id','en']"
      ],
      "metadata": {
        "id": "44I84AciEsky"
      },
      "execution_count": 59,
      "outputs": []
    },
    {
      "cell_type": "code",
      "source": [
        "import pandas as pd\n",
        "datatw=[]"
      ],
      "metadata": {
        "id": "7D1JaqRlE0dV"
      },
      "execution_count": 60,
      "outputs": []
    },
    {
      "cell_type": "code",
      "source": [
        "for keyword in keywords:\n",
        "   \n",
        "    for i, tweet in enumerate (sntwitter.TwitterSearchScraper(f'{keyword} ').get_items()):\n",
        "        \n",
        "        try:\n",
        "            lan=detect(tweet.content)\n",
        "        except:\n",
        "            lan='error'\n",
        "        if i == max_num:\n",
        "            break\n",
        "        if lan in languages:\n",
        "            data = {'id': tweet.id, 'username':tweet.username, 'date': tweet.date, 'text': tweet.content,'url':tweet.url}\n",
        "            print(data)\n",
        "            datatw.append(tweet.content)\n",
        "            with open(fname, 'a+', encoding='utf-8') as f:\n",
        "                line = json.dumps(data, ensure_ascii=False,default=str)\n",
        "                print(line)\n",
        "                f.write(line)\n",
        "                f.write('\\n')"
      ],
      "metadata": {
        "colab": {
          "base_uri": "https://localhost:8080/"
        },
        "id": "XR4BDLDEE7bm",
        "outputId": "427b160e-a53f-4ccc-bce0-228c3f7d5074"
      },
      "execution_count": 61,
      "outputs": [
        {
          "output_type": "stream",
          "name": "stdout",
          "text": [
            "{'id': 1580400162085965824, 'username': 'kuydotid', 'date': datetime.datetime(2022, 10, 13, 3, 28, 55, tzinfo=datetime.timezone.utc), 'text': '3. Bigetron Red Aliens\\n\\nDi ranah PUBG Mobile, BTR RA juga dilabeli juara dunia usai memenangkan PUBG Mobile Club Open atau PMCO di tahun 2019.', 'url': 'https://twitter.com/kuydotid/status/1580400162085965824'}\n",
            "{\"id\": 1580400162085965824, \"username\": \"kuydotid\", \"date\": \"2022-10-13 03:28:55+00:00\", \"text\": \"3. Bigetron Red Aliens\\n\\nDi ranah PUBG Mobile, BTR RA juga dilabeli juara dunia usai memenangkan PUBG Mobile Club Open atau PMCO di tahun 2019.\", \"url\": \"https://twitter.com/kuydotid/status/1580400162085965824\"}\n",
            "{'id': 1545366362557595648, 'username': 'hanifdhz', 'date': datetime.datetime(2022, 7, 8, 11, 17, 7, tzinfo=datetime.timezone.utc), 'text': '@Satymir @akbarcadabraa @registaco Ehm sorry nih bukannya gimane2 gw fans boom juga. Tp BTR tim PUBG Mobile nya Pernah Juara Dunia bro 2x (PMCO Global Finals 2019 &amp; PMWL East 2020) di Region SEA pernah juara 1x juga runner-up 2x.', 'url': 'https://twitter.com/hanifdhz/status/1545366362557595648'}\n",
            "{\"id\": 1545366362557595648, \"username\": \"hanifdhz\", \"date\": \"2022-07-08 11:17:07+00:00\", \"text\": \"@Satymir @akbarcadabraa @registaco Ehm sorry nih bukannya gimane2 gw fans boom juga. Tp BTR tim PUBG Mobile nya Pernah Juara Dunia bro 2x (PMCO Global Finals 2019 &amp; PMWL East 2020) di Region SEA pernah juara 1x juga runner-up 2x.\", \"url\": \"https://twitter.com/hanifdhz/status/1545366362557595648\"}\n",
            "{'id': 1518777316935368704, 'username': 'pubgm_stuff', 'date': datetime.datetime(2022, 4, 26, 2, 21, 44, tzinfo=datetime.timezone.utc), 'text': '2. Turnamen Online\\nYap, semua rangkaian turnamen PMPL masih diselenggarakan secara online. BTR RA merupakan tim yang sangat kuat di turnamen offline. Mereka meraih gelar juara dunia dan mendominasi PMCO SEA League ketika turnamen masih digelar secara offline.', 'url': 'https://twitter.com/pubgm_stuff/status/1518777316935368704'}\n",
            "{\"id\": 1518777316935368704, \"username\": \"pubgm_stuff\", \"date\": \"2022-04-26 02:21:44+00:00\", \"text\": \"2. Turnamen Online\\nYap, semua rangkaian turnamen PMPL masih diselenggarakan secara online. BTR RA merupakan tim yang sangat kuat di turnamen offline. Mereka meraih gelar juara dunia dan mendominasi PMCO SEA League ketika turnamen masih digelar secara offline.\", \"url\": \"https://twitter.com/pubgm_stuff/status/1518777316935368704\"}\n",
            "{'id': 1354129248680730624, 'username': 'NZR_97', 'date': datetime.datetime(2021, 1, 26, 18, 9, 6, tzinfo=datetime.timezone.utc), 'text': 'Peringkat 1 dan 2 udah terprediksi sejak awal.\\n\\nZeus diluar ekspektasi banyak orang, keteteran pas league, menggila saat final!! Gokil parah\\n \\nSedangkan.\\nBTR kurang perform, diawal banyak yg memprediksi BTR bisa finish minimal top 3, secara dia adalah juara dunia PMCO musim lalu https://t.co/ypY5BLFiVA', 'url': 'https://twitter.com/NZR_97/status/1354129248680730624'}\n",
            "{\"id\": 1354129248680730624, \"username\": \"NZR_97\", \"date\": \"2021-01-26 18:09:06+00:00\", \"text\": \"Peringkat 1 dan 2 udah terprediksi sejak awal.\\n\\nZeus diluar ekspektasi banyak orang, keteteran pas league, menggila saat final!! Gokil parah\\n \\nSedangkan.\\nBTR kurang perform, diawal banyak yg memprediksi BTR bisa finish minimal top 3, secara dia adalah juara dunia PMCO musim lalu https://t.co/ypY5BLFiVA\", \"url\": \"https://twitter.com/NZR_97/status/1354129248680730624\"}\n",
            "{'id': 1335512757479723009, 'username': 'whosmarcoo', 'date': datetime.datetime(2020, 12, 6, 9, 13, 48, tzinfo=datetime.timezone.utc), 'text': 'itu juga jd alesan knp btr ra bisa juara dunia pmco kmrn, krnnada org sedewasa coboy, dan menurut gua itu berpengaruh bgt dan keliatan jelas karna, pas natic farwell dr ra cboy masuk lgsg berubah banget', 'url': 'https://twitter.com/whosmarcoo/status/1335512757479723009'}\n",
            "{\"id\": 1335512757479723009, \"username\": \"whosmarcoo\", \"date\": \"2020-12-06 09:13:48+00:00\", \"text\": \"itu juga jd alesan knp btr ra bisa juara dunia pmco kmrn, krnnada org sedewasa coboy, dan menurut gua itu berpengaruh bgt dan keliatan jelas karna, pas natic farwell dr ra cboy masuk lgsg berubah banget\", \"url\": \"https://twitter.com/whosmarcoo/status/1335512757479723009\"}\n",
            "{'id': 1331106752025174021, 'username': 'Alkatirii_9', 'date': datetime.datetime(2020, 11, 24, 5, 25, 55, tzinfo=datetime.timezone.utc), 'text': 'Nonton. IG TV nya pubg mobile id, banyak bgt tim yang mau ngalahin BTR wkwk... Yaa secara kan 2 tahun belakangan ini BTR mendominasi kejuaraan dunia, apalagi mereka juara dunia nya, juara bertahan. PMCO, PMWL, PMPL SEA. Hari ini PMGC nya mulai jam 18.00, gak sabar cokk...', 'url': 'https://twitter.com/Alkatirii_9/status/1331106752025174021'}\n",
            "{\"id\": 1331106752025174021, \"username\": \"Alkatirii_9\", \"date\": \"2020-11-24 05:25:55+00:00\", \"text\": \"Nonton. IG TV nya pubg mobile id, banyak bgt tim yang mau ngalahin BTR wkwk... Yaa secara kan 2 tahun belakangan ini BTR mendominasi kejuaraan dunia, apalagi mereka juara dunia nya, juara bertahan. PMCO, PMWL, PMPL SEA. Hari ini PMGC nya mulai jam 18.00, gak sabar cokk...\", \"url\": \"https://twitter.com/Alkatirii_9/status/1331106752025174021\"}\n",
            "{'id': 1294485469531484160, 'username': 'Maiden666_', 'date': datetime.datetime(2020, 8, 15, 4, 6, tzinfo=datetime.timezone.utc), 'text': '@Bali_Football Yaps, divisi IOG PUBG Mobile hari ini ikut turnamen PMPL satu grup bareng BTR juara dunia PMCO tahun lalu 🔥', 'url': 'https://twitter.com/Maiden666_/status/1294485469531484160'}\n",
            "{\"id\": 1294485469531484160, \"username\": \"Maiden666_\", \"date\": \"2020-08-15 04:06:00+00:00\", \"text\": \"@Bali_Football Yaps, divisi IOG PUBG Mobile hari ini ikut turnamen PMPL satu grup bareng BTR juara dunia PMCO tahun lalu 🔥\", \"url\": \"https://twitter.com/Maiden666_/status/1294485469531484160\"}\n",
            "{'id': 1292787226527404039, 'username': 'kokohadhi', 'date': datetime.datetime(2020, 8, 10, 11, 37, 48, tzinfo=datetime.timezone.utc), 'text': 'Mereka (BTR RA) masih juara bertahan di PMCO (Dunia) bro https://t.co/Hh0g2K8mq9', 'url': 'https://twitter.com/kokohadhi/status/1292787226527404039'}\n",
            "{\"id\": 1292787226527404039, \"username\": \"kokohadhi\", \"date\": \"2020-08-10 11:37:48+00:00\", \"text\": \"Mereka (BTR RA) masih juara bertahan di PMCO (Dunia) bro https://t.co/Hh0g2K8mq9\", \"url\": \"https://twitter.com/kokohadhi/status/1292787226527404039\"}\n",
            "{'id': 1201545244954644491, 'username': 'aylemamelya', 'date': datetime.datetime(2019, 12, 2, 16, 54, 44, tzinfo=datetime.timezone.utc), 'text': 'BTR tahun ini dapet 3m kali ya, dr pinc, pmco, dan turney2 yg gak resmi skrg ini juara 1 dunia.\\nMiliarder ni abi bagas bagus sm microboy.\\nNext time aku lah pro playyah', 'url': 'https://twitter.com/aylemamelya/status/1201545244954644491'}\n",
            "{\"id\": 1201545244954644491, \"username\": \"aylemamelya\", \"date\": \"2019-12-02 16:54:44+00:00\", \"text\": \"BTR tahun ini dapet 3m kali ya, dr pinc, pmco, dan turney2 yg gak resmi skrg ini juara 1 dunia.\\nMiliarder ni abi bagas bagus sm microboy.\\nNext time aku lah pro playyah\", \"url\": \"https://twitter.com/aylemamelya/status/1201545244954644491\"}\n",
            "{'id': 1201176843682025472, 'username': 'Kendarinformasi', 'date': datetime.datetime(2019, 12, 1, 16, 30, 50, tzinfo=datetime.timezone.utc), 'text': 'Tim eSports Indonesia Bigetron Red Alien juara dunia Turnamen PUBG Mobile PMCO Fall Split 2019 di Malaysia.\\n.\\nMeski masih menyisakan tiga match, jarak poin yang dimiliki BTR RA\\xa0terpaut jauh dengan penghuni peringkat… https://t.co/WcFIXXrc6s', 'url': 'https://twitter.com/Kendarinformasi/status/1201176843682025472'}\n",
            "{\"id\": 1201176843682025472, \"username\": \"Kendarinformasi\", \"date\": \"2019-12-01 16:30:50+00:00\", \"text\": \"Tim eSports Indonesia Bigetron Red Alien juara dunia Turnamen PUBG Mobile PMCO Fall Split 2019 di Malaysia.\\n.\\nMeski masih menyisakan tiga match, jarak poin yang dimiliki BTR RA terpaut jauh dengan penghuni peringkat… https://t.co/WcFIXXrc6s\", \"url\": \"https://twitter.com/Kendarinformasi/status/1201176843682025472\"}\n"
          ]
        }
      ]
    },
    {
      "cell_type": "code",
      "source": [
        "!pip install Sastrawi"
      ],
      "metadata": {
        "colab": {
          "base_uri": "https://localhost:8080/"
        },
        "id": "JyIAkFllFLXl",
        "outputId": "8d481c1a-1254-4702-a875-593af5ab7d19"
      },
      "execution_count": 62,
      "outputs": [
        {
          "output_type": "stream",
          "name": "stdout",
          "text": [
            "Looking in indexes: https://pypi.org/simple, https://us-python.pkg.dev/colab-wheels/public/simple/\n",
            "Requirement already satisfied: Sastrawi in /usr/local/lib/python3.7/dist-packages (1.0.1)\n"
          ]
        }
      ]
    },
    {
      "cell_type": "code",
      "source": [
        "import re\n",
        "import string\n",
        "from Sastrawi.Stemmer.StemmerFactory import StemmerFactory# create stemmer\n",
        "factory = StemmerFactory()\n",
        "stemmer = factory.create_stemmer()# stemming process\n",
        "# import StopWordRemoverFactory class\n",
        "from Sastrawi.StopWordRemover.StopWordRemoverFactory import StopWordRemoverFactory\n",
        "factory = StopWordRemoverFactory()\n",
        "stopword = factory.create_stop_word_remover()\n",
        "documents_clean=[]\n",
        "\n",
        "for d in datatw:\n",
        "    outputstem= stemmer.stem(d)\n",
        "    d= stopword.remove(outputstem)\n",
        "    # Remove Unicode\n",
        "    document_test = re.sub(r'[^\\x00-\\x7F]+', ' ', d)\n",
        "    # Remove Mentions\n",
        "    document_test = re.sub(r'@\\w+', '', document_test)\n",
        "    # Lowercase the document\n",
        "    document_test = document_test.lower()\n",
        "    # Remove punctuations\n",
        "    document_test = re.sub(r'[%s]' % re.escape(string.punctuation), ' ', document_test)\n",
        "    # Lowercase the numbers\n",
        "    document_test = re.sub(r'[0-9]', '', document_test)\n",
        "    # Remove the doubled space\n",
        "    outputstop = re.sub(r'\\s{2,}', ' ', document_test)\n",
        "    documents_clean.append(outputstop)"
      ],
      "metadata": {
        "id": "e-_rnFVgGhOJ"
      },
      "execution_count": 63,
      "outputs": []
    },
    {
      "cell_type": "code",
      "source": [
        "documents_clean"
      ],
      "metadata": {
        "colab": {
          "base_uri": "https://localhost:8080/"
        },
        "id": "gPNQraqpGo5c",
        "outputId": "e37a0285-cfe1-498d-dfa4-2ba43e9fd5cb"
      },
      "execution_count": 64,
      "outputs": [
        {
          "output_type": "execute_result",
          "data": {
            "text/plain": [
              "[' bigetron red aliens ranah pubg mobile btr ra label juara dunia usai menang pubg mobile club open pmco tahun ',\n",
              " 'satymir akbarcadabraa registaco ehm sorry nih bukan gimane gw fans boom tp btr tim pubg mobile nya pernah juara dunia bro x pmco global finals amp pmwl east region sea pernah juara x runner up x',\n",
              " ' turnamen online yap semua rangkai turnamen pmpl selenggara cara online btr ra rupa tim sangat kuat turnamen offline raih gelar juara dunia dominasi pmco sea league turnamen gelar cara offline',\n",
              " 'peringkat udah prediksi sejak awal zeus luar ekspektasi banyak orang keteter pas league gila final gokil parah sedang btr kurang perform awal banyak yg prediksi btr finish minimal top cara adalah juara dunia pmco musim lalu https t co ypyblfiva',\n",
              " 'juga jd alesan knp btr ra juara dunia pmco kmrn krnnada org dewasa coboy turut gua pengaruh bgt liat jelas karna pas natic farwell dr ra cboy masuk lgsg ubah banget',\n",
              " 'nonton ig tv nya pubg mobile id banyak bgt tim mau ngalahin btr wkwk yaa cara kan tahun belakang btr dominasi juara dunia mereka juara dunia nya juara tahan pmco pmwl pmpl sea hari pmgc nya mulai jam gak sabar cokk',\n",
              " 'bal football yaps divisi iog pubg mobile hari ikut turnamen pmpl satu grup bareng btr juara dunia pmco tahun lalu',\n",
              " 'btr ra juara tahan pmco dunia bro https t co hhgkmq',\n",
              " 'btr tahun dapet m kali dr pinc pmco turney yg gak resmi skrg juara dunia miliarder ni abi bagas bagus sm microboy next time aku lah pro playyah',\n",
              " 'tim esports indonesia bigetron red alien juara dunia turnamen pubg mobile pmco fall split malaysia meski sisa tiga match jarak poin milik btr ra paut jauh huni peringkat https t co wcfixxrcs']"
            ]
          },
          "metadata": {},
          "execution_count": 64
        }
      ]
    },
    {
      "cell_type": "code",
      "source": [
        "from sklearn.feature_extraction.text import TfidfVectorizer\n",
        "import pandas as pd\n",
        "tfidfvectorizer = TfidfVectorizer(analyzer='word')\n",
        "tfidf_wm = tfidfvectorizer.fit_transform(documents_clean)\n",
        "tfidf_tokens = tfidfvectorizer.get_feature_names()"
      ],
      "metadata": {
        "colab": {
          "base_uri": "https://localhost:8080/"
        },
        "id": "viTYhdgQHjFg",
        "outputId": "a965c39b-1745-48c1-e870-9d228dc9326d"
      },
      "execution_count": 65,
      "outputs": [
        {
          "output_type": "stream",
          "name": "stderr",
          "text": [
            "/usr/local/lib/python3.7/dist-packages/sklearn/utils/deprecation.py:87: FutureWarning: Function get_feature_names is deprecated; get_feature_names is deprecated in 1.0 and will be removed in 1.2. Please use get_feature_names_out instead.\n",
            "  warnings.warn(msg, category=FutureWarning)\n"
          ]
        }
      ]
    },
    {
      "cell_type": "code",
      "source": [
        "from sklearn.cluster import KMeans\n",
        "true_k = 3\n",
        "model = KMeans(n_clusters=true_k, init='k-means++', max_iter=100, n_init=1)\n",
        "model.fit(words)"
      ],
      "metadata": {
        "colab": {
          "base_uri": "https://localhost:8080/"
        },
        "id": "wAXlg_bYHoXo",
        "outputId": "649f1e1c-df4f-4612-8b74-9bb863fd33b0"
      },
      "execution_count": 68,
      "outputs": [
        {
          "output_type": "execute_result",
          "data": {
            "text/plain": [
              "KMeans(max_iter=100, n_clusters=3, n_init=1)"
            ]
          },
          "metadata": {},
          "execution_count": 68
        }
      ]
    },
    {
      "cell_type": "code",
      "source": [
        "order_centroids = model.cluster_centers_.argsort()[:, ::-1]\n",
        "terms = cv.get_feature_names()\n",
        "\n",
        "for i in range(true_k):\n",
        "    print(\"Cluster %d:\" % i),\n",
        "    for ind in order_centroids[i, :10]:\n",
        "        print(' %s' % terms[ind]),\n",
        "    print\n",
        "\n",
        "print(\"\\n\")"
      ],
      "metadata": {
        "colab": {
          "base_uri": "https://localhost:8080/"
        },
        "id": "BmvUtSD_JLV6",
        "outputId": "68627fd6-0d31-4851-f961-0cd47b75dbb3"
      },
      "execution_count": 69,
      "outputs": [
        {
          "output_type": "stream",
          "name": "stdout",
          "text": [
            "Cluster 0:\n",
            " ra\n",
            " org\n",
            " coboy\n",
            " dewasa\n",
            " dr\n",
            " dunia\n",
            " farwell\n",
            " pmco\n",
            " gua\n",
            " pengaruh\n",
            "Cluster 1:\n",
            " juara\n",
            " nya\n",
            " dunia\n",
            " btr\n",
            " jam\n",
            " pubg\n",
            " cara\n",
            " hari\n",
            " mobile\n",
            " sea\n",
            "Cluster 2:\n",
            " btr\n",
            " juara\n",
            " pmco\n",
            " dunia\n",
            " turnamen\n",
            " pubg\n",
            " mobile\n",
            " ra\n",
            " https\n",
            " tim\n",
            "\n",
            "\n"
          ]
        },
        {
          "output_type": "stream",
          "name": "stderr",
          "text": [
            "/usr/local/lib/python3.7/dist-packages/sklearn/utils/deprecation.py:87: FutureWarning: Function get_feature_names is deprecated; get_feature_names is deprecated in 1.0 and will be removed in 1.2. Please use get_feature_names_out instead.\n",
            "  warnings.warn(msg, category=FutureWarning)\n"
          ]
        }
      ]
    },
    {
      "cell_type": "code",
      "source": [
        "print(\"Prediction\")\n",
        "Y = cv.transform([\"lesti marah\"])\n",
        "prediction = model.predict(Y)\n",
        "print(\"Cluster number :\", prediction)\n",
        "Y = cv.transform([\"cerai\"])\n",
        "prediction = model.predict(Y)\n",
        "print(\"Cluster number :\", prediction)"
      ],
      "metadata": {
        "colab": {
          "base_uri": "https://localhost:8080/"
        },
        "id": "MbYFPrWAJgVu",
        "outputId": "db32a33c-60f2-427f-dc56-d4c61e88e25a"
      },
      "execution_count": 70,
      "outputs": [
        {
          "output_type": "stream",
          "name": "stdout",
          "text": [
            "Prediction\n",
            "Cluster number : [2]\n",
            "Cluster number : [2]\n"
          ]
        }
      ]
    },
    {
      "cell_type": "code",
      "source": [
        "import scipy.cluster.hierarchy as sch\n",
        "X = cv.fit_transform(documents_clean).todense()\n",
        "dendrogram = sch.dendrogram(sch.linkage(X, method = 'ward',metric='euclidean'),orientation=\"top\")\n",
        "plt.title('Dendrogram')\n",
        "plt.xlabel('Jarak Ward')\n",
        "plt.ylabel('Nomor Dokumen')\n",
        "plt.show()"
      ],
      "metadata": {
        "colab": {
          "base_uri": "https://localhost:8080/",
          "height": 298
        },
        "id": "wSIDcqr4JrnO",
        "outputId": "76600afd-8f39-47bd-9fcc-eca08a41bd38"
      },
      "execution_count": 71,
      "outputs": [
        {
          "output_type": "display_data",
          "data": {
            "text/plain": [
              "<Figure size 432x288 with 1 Axes>"
            ],
            "image/png": "[encoded data removed]"
          },
          "metadata": {
            "needs_background": "light"
          }
        }
      ]
    },
    {
      "cell_type": "code",
      "source": [
        "import scipy.cluster.hierarchy as sch\n",
        "X = cv.fit_transform(documents_clean).todense()\n",
        "dendrogram = sch.dendrogram(sch.linkage(X, method = 'average',metric='euclidean'),orientation=\"right\")\n",
        "plt.title('Dendrogram')\n",
        "plt.xlabel('Jarak Rerata')\n",
        "plt.ylabel('Nomor Dokumen')\n",
        "plt.show()"
      ],
      "metadata": {
        "colab": {
          "base_uri": "https://localhost:8080/",
          "height": 295
        },
        "id": "Ivfkxk0IJxTe",
        "outputId": "c55ed350-e50c-4942-d5a7-b6d945620513"
      },
      "execution_count": 72,
      "outputs": [
        {
          "output_type": "display_data",
          "data": {
            "text/plain": [
              "<Figure size 432x288 with 1 Axes>"
            ],
            "image/png": "[encoded data removed]"
          },
          "metadata": {
            "needs_background": "light"
          }
        }
      ]
    }
  ]
}